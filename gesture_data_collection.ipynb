{
 "cells": [
  {
   "cell_type": "markdown",
   "metadata": {},
   "source": [
    "### Importing Libraries"
   ]
  },
  {
   "cell_type": "code",
   "execution_count": 2,
   "metadata": {},
   "outputs": [],
   "source": [
    "import cv2\n",
    "import mediapipe as mp\n",
    "import numpy as np\n",
    "import pickle"
   ]
  },
  {
   "cell_type": "markdown",
   "metadata": {},
   "source": [
    "### Dynamic Gesture Collection"
   ]
  },
  {
   "cell_type": "code",
   "execution_count": 6,
   "metadata": {},
   "outputs": [
    {
     "name": "stdout",
     "output_type": "stream",
     "text": [
      "Data collection complete. Shape of collected data: (0,)\n"
     ]
    }
   ],
   "source": [
    "# Setup MediaPipe instance\n",
    "# label_list = [15] * 20 # 15 is the label for the gesture\n",
    "mp_hands = mp.solutions.hands\n",
    "hands = mp_hands.Hands(min_detection_confidence=0.5, min_tracking_confidence=0.5)\n",
    "mp_drawing = mp.solutions.drawing_utils\n",
    "\n",
    "# Start capturing video\n",
    "cap = cv2.VideoCapture(0)\n",
    "all_gestures = []\n",
    "\n",
    "if not cap.isOpened():\n",
    "    print(\"Error opening video stream or file\")\n",
    "\n",
    "local_landmarks_data = []\n",
    "world_landmarks_data = []\n",
    "recording = False\n",
    "\n",
    "while True:\n",
    "    success, image = cap.read()\n",
    "    if not success:\n",
    "        print(\"Ignoring empty camera frame.\")\n",
    "        continue  # Skip the rest of the loop if frame capture failed\n",
    "\n",
    "    # Convert the image color from BGR to RGB\n",
    "    image = cv2.cvtColor(image, cv2.COLOR_BGR2RGB)\n",
    "    image.flags.writeable = False\n",
    "    results = hands.process(image)\n",
    "    image.flags.writeable = True\n",
    "    image = cv2.cvtColor(image, cv2.COLOR_RGB2BGR)\n",
    "\n",
    "    if results.multi_hand_landmarks:\n",
    "        for hand_landmarks in results.multi_hand_landmarks:\n",
    "            # Process local landmarks for drawing\n",
    "            mp_drawing.draw_landmarks(image, hand_landmarks, mp_hands.HAND_CONNECTIONS)\n",
    "\n",
    "            # Store local landmarks if recording\n",
    "            if recording:\n",
    "                # Store local landmarks\n",
    "                frame_landmarks = []\n",
    "                for lm in hand_landmarks.landmark:\n",
    "                    # Convert coordinates to relative coordinates (based on image dimensions)\n",
    "                    frame_landmarks.append((lm.x, lm.y, lm.z))\n",
    "                local_landmarks_data.append(frame_landmarks)\n",
    "\n",
    "            # Collect world landmarks data for storage\n",
    "            if results.multi_hand_world_landmarks:\n",
    "                frame_world_landmarks = []\n",
    "                for hand_world_landmarks in results.multi_hand_world_landmarks:\n",
    "                    # Flatten the list of landmarks\n",
    "                    landmarks = [(lm.x, lm.y, lm.z) for lm in hand_world_landmarks.landmark]\n",
    "                    frame_world_landmarks.extend(landmarks)  # Use extend instead of append\n",
    "                world_landmarks_data.append(frame_world_landmarks)\n",
    "\n",
    "    # Display the image\n",
    "    if recording:\n",
    "        cv2.putText(image, \"Recording Gesture\", (10, 30), cv2.FONT_HERSHEY_SIMPLEX, 1, (255, 255, 255), 2, cv2.LINE_AA)\n",
    "    cv2.imshow('MediaPipe Hands', image)\n",
    "    \n",
    "    key = cv2.waitKey(1)\n",
    "    if key == ord('s'):  # Start recording gesture\n",
    "        recording = True\n",
    "        local_landmarks_data = []\n",
    "        world_landmarks_data = []\n",
    "    elif key == ord('w'):  # End recording gesture\n",
    "        recording = False\n",
    "        all_gestures.append(world_landmarks_data)\n",
    "        print(f\"Gesture recorded. Total recorded gestures: {len(all_gestures)}\")\n",
    "    elif key == ord('q'):  # Quit\n",
    "        break\n",
    "\n",
    "# Release everything if job is finished\n",
    "cap.release()\n",
    "cv2.destroyAllWindows()\n",
    "\n",
    "# Convert all_gestures to a NumPy array for further processing\n",
    "all_gestures_np = np.array(all_gestures)\n",
    "print(\"Data collection complete. Shape of collected data:\", all_gestures_np.shape)\n"
   ]
  },
  {
   "cell_type": "markdown",
   "metadata": {},
   "source": [
    "### Converting into Pickle Format"
   ]
  },
  {
   "cell_type": "code",
   "execution_count": 6,
   "metadata": {},
   "outputs": [],
   "source": [
    "num = len(all_gestures)\n",
    "label_list = [1] * num \n",
    "pose_list = all_gestures\n",
    "\n",
    "dictionary = {\n",
    "    \"label\": label_list,\n",
    "    \"pose\": pose_list\n",
    "}\n",
    "\n",
    "with open(\"grab_data.pickle\", \"wb\") as f:\n",
    "    pickle.dump(dictionary, f)"
   ]
  }
 ],
 "metadata": {
  "kernelspec": {
   "display_name": "ml",
   "language": "python",
   "name": "python3"
  },
  "language_info": {
   "codemirror_mode": {
    "name": "ipython",
    "version": 3
   },
   "file_extension": ".py",
   "mimetype": "text/x-python",
   "name": "python",
   "nbconvert_exporter": "python",
   "pygments_lexer": "ipython3",
   "version": "3.10.9"
  }
 },
 "nbformat": 4,
 "nbformat_minor": 2
}
